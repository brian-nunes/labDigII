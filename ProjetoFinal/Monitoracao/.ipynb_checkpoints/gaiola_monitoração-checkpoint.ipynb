{
 "cells": [
  {
   "cell_type": "markdown",
   "metadata": {},
   "source": [
    "# Gaiola Automatizada - Lab Dig II\n",
    "\n",
    "---\n",
    "\n",
    "## Configurações\n",
    "\n",
    "### Instalar dependencias:"
   ]
  },
  {
   "cell_type": "code",
   "execution_count": null,
   "metadata": {},
   "outputs": [],
   "source": [
    "pip install paho-mqtt"
   ]
  },
  {
   "cell_type": "markdown",
   "metadata": {},
   "source": [
    "### Definir credenciais"
   ]
  },
  {
   "cell_type": "code",
   "execution_count": null,
   "metadata": {},
   "outputs": [],
   "source": [
    "user = \"grupo2-bancadaB2\"\n",
    "passwd = \"L@Bdygy2B2\""
   ]
  },
  {
   "cell_type": "markdown",
   "metadata": {},
   "source": [
    "### Define classe estática para maestrar Dashboard"
   ]
  },
  {
   "cell_type": "code",
   "execution_count": null,
   "metadata": {},
   "outputs": [],
   "source": [
    "import matplotlib.pyplot as plt\n",
    "import pandas as pd\n",
    "\n",
    "class Maestro(object):\n",
    "    mensagem = \"\"\n",
    "    gaiolas = {}\n",
    "    \n",
    "    @staticmethod\n",
    "    def atualiza_gaiolas():\n",
    "        msg = Maestro.mensagem.split(\"-\")\n",
    "        codigo = msg[0]\n",
    "        estado = msg[1]\n",
    "        distancia1 = int(msg[2]) if len(msg) > 2 else \" - \" \n",
    "        distancia2 = int(msg[3]) if len(msg) > 3 else \" - \"\n",
    "        \n",
    "        Maestro.gaiolas[codigo] = {\"Código\": codigo, \"Estado\": estado, \"Distância 1\": distancia1 if type(distancia1) == int else 0, \"Distância 2\": distancia2 if type(distancia2) == int else 0}\n",
    "        \n",
    "        estado_desc = \"Inativo\" if estado == \"0\" else \"Armado\" if estado == \"2\" else \"Fechado\" if estado == \"5\" else \"NaN\"\n",
    "        \n",
    "        print(f\"Gaiola: {codigo} | Estado: {estado_desc:<7} | Distância 1: {distancia1:>3} cm | Distância 2: {distancia2:>3} cm \", flush=True)\n",
    "        \n",
    "        Maestro.mensagem = \"\"\n",
    "\n",
    "    \n",
    "    @staticmethod\n",
    "    def monta_tabela(ref = None):           \n",
    "        df = pd.DataFrame(Maestro.gaiolas).transpose()\n",
    "        df.drop('Código', axis=1, inplace=True)\n",
    "        df[\"Estado\"] = df[\"Estado\"].apply(\n",
    "            lambda estado: \"Inativo\" if estado == \"0\" else \"Armado\" if estado == \"2\" else \"Fechado\" if estado == \"5\" else \"NaN\"\n",
    "        )\n",
    "        if ref:\n",
    "            df.sort_values(by=[ref], inplace=True)\n",
    "        display(df)\n",
    "    \n",
    "    @staticmethod\n",
    "    def exibe_grafico():\n",
    "        try:\n",
    "            df = pd.DataFrame(Maestro.gaiolas).transpose()\n",
    "            df[\"Estado Descrição\"] = df[\"Estado\"].apply(\n",
    "                lambda estado: \"Inativo\" if estado == \"0\" else \"Armado\" if estado == \"2\" else \"Fechado\" if estado == \"5\" else \"NaN\"\n",
    "            )\n",
    "            df.groupby('Estado Descrição')['Código'].nunique().plot(kind='pie', title=\"Estados das Gaiolas\", xlabel=\"\", ylabel=\"\")\n",
    "            plt.show()\n",
    "            \n",
    "            df.drop(df[df['Estado'] != '2'].index, inplace = True)\n",
    "\n",
    "            plt.hist(df['Distância 1'], label='Distância Interna', alpha=.85, edgecolor='black', bins=4)\n",
    "            plt.hist(df['Distância 2'], label='Distância na Porta', alpha=.6, edgecolor='black', bins=4)\n",
    "            plt.legend()\n",
    "            plt.show()\n",
    "        except:\n",
    "            print(\"Sem gaiolas\")\n",
    "        \n",
    "        "
   ]
  },
  {
   "cell_type": "markdown",
   "metadata": {},
   "source": [
    "### Define cliente para conexão"
   ]
  },
  {
   "cell_type": "code",
   "execution_count": null,
   "metadata": {},
   "outputs": [],
   "source": [
    "import paho.mqtt.client as mqtt\n",
    "        \n",
    "broker = \"3.141.193.238\"            \n",
    "port = 80                           \n",
    "keepAlive = 60                      \n",
    "topico = user+\"/TX\"\n",
    "\n",
    "def on_connect(client, userdata, flags, rc):\n",
    "    print(\"Conectado com codigo \" + str(rc))\n",
    "    client.subscribe(topico, qos=0)\n",
    "\n",
    "# Exemplo mensagem: 01-2-030-015\n",
    "def on_message(client, userdata, msg):\n",
    "    caracter = msg.payload.decode(\"utf-8\")\n",
    "    if caracter == \".\":\n",
    "        Maestro.atualiza_gaiolas()\n",
    "    else:\n",
    "        Maestro.mensagem += caracter\n",
    "\n",
    "\n",
    "client = mqtt.Client()        \n",
    "client.on_connect = on_connect              \n",
    "client.on_message = on_message              \n",
    "client.username_pw_set(user, passwd)        \n",
    "client.connect(broker, port, keepAlive)"
   ]
  },
  {
   "cell_type": "markdown",
   "metadata": {},
   "source": [
    "---\n",
    "---\n",
    "---\n",
    "\n",
    "# Teste de Dashboard Mockado\n",
    "\n",
    "### Mocka gaiolas:"
   ]
  },
  {
   "cell_type": "code",
   "execution_count": null,
   "metadata": {},
   "outputs": [],
   "source": [
    "Maestro.mensagem = \"01-2-030-015\"\n",
    "Maestro.atualiza_gaiolas()\n",
    "Maestro.mensagem = \"02-0\"\n",
    "Maestro.atualiza_gaiolas()\n",
    "Maestro.mensagem = \"03-2-145-68\"\n",
    "Maestro.atualiza_gaiolas()\n",
    "Maestro.mensagem = \"04-2-088-027\"\n",
    "Maestro.atualiza_gaiolas()\n",
    "Maestro.mensagem = \"05-5\"\n",
    "Maestro.atualiza_gaiolas()\n",
    "Maestro.mensagem = \"06-0\"\n",
    "Maestro.atualiza_gaiolas()\n",
    "Maestro.mensagem = \"07-5\"\n",
    "Maestro.atualiza_gaiolas()\n",
    "Maestro.mensagem = \"08-2-143-089\"\n",
    "Maestro.atualiza_gaiolas()\n",
    "Maestro.mensagem = \"09-2-099-010\"\n",
    "Maestro.atualiza_gaiolas()\n",
    "Maestro.mensagem = \"10-0\"\n",
    "Maestro.atualiza_gaiolas()"
   ]
  },
  {
   "cell_type": "markdown",
   "metadata": {},
   "source": [
    "### Gera Tabela"
   ]
  },
  {
   "cell_type": "code",
   "execution_count": null,
   "metadata": {},
   "outputs": [],
   "source": [
    "Maestro.monta_tabela()"
   ]
  },
  {
   "cell_type": "markdown",
   "metadata": {},
   "source": [
    "### Atualizam gaiolas"
   ]
  },
  {
   "cell_type": "code",
   "execution_count": null,
   "metadata": {},
   "outputs": [],
   "source": [
    "Maestro.mensagem = \"01-5\"\n",
    "Maestro.atualiza_gaiolas()\n",
    "Maestro.mensagem = \"05-0\"\n",
    "Maestro.atualiza_gaiolas()\n",
    "Maestro.mensagem = \"06-2-048-078\"\n",
    "Maestro.atualiza_gaiolas()\n",
    "Maestro.mensagem = \"09-5\"\n",
    "Maestro.atualiza_gaiolas()"
   ]
  },
  {
   "cell_type": "markdown",
   "metadata": {},
   "source": [
    "### Nova tabela"
   ]
  },
  {
   "cell_type": "code",
   "execution_count": null,
   "metadata": {},
   "outputs": [],
   "source": [
    "Maestro.monta_tabela()"
   ]
  },
  {
   "cell_type": "markdown",
   "metadata": {},
   "source": [
    "### Exibe gráfico"
   ]
  },
  {
   "cell_type": "code",
   "execution_count": null,
   "metadata": {},
   "outputs": [],
   "source": [
    "Maestro.exibe_grafico()"
   ]
  },
  {
   "cell_type": "markdown",
   "metadata": {},
   "source": [
    "---\n",
    "---\n",
    "---\n",
    "\n",
    "# Monitoração"
   ]
  },
  {
   "cell_type": "markdown",
   "metadata": {},
   "source": [
    "### Faz a conexão e recebe em loop"
   ]
  },
  {
   "cell_type": "code",
   "execution_count": null,
   "metadata": {},
   "outputs": [],
   "source": [
    "print(\"========================================\")\n",
    "print(\"Terminal Receptor Serial\")\n",
    "print(\"========================================\")\n",
    "client.loop_forever()"
   ]
  },
  {
   "cell_type": "markdown",
   "metadata": {},
   "source": [
    "### Tabela"
   ]
  },
  {
   "cell_type": "code",
   "execution_count": null,
   "metadata": {},
   "outputs": [],
   "source": [
    "Maestro.monta_tabela()"
   ]
  },
  {
   "cell_type": "code",
   "execution_count": null,
   "metadata": {},
   "outputs": [],
   "source": [
    "Maestro.monta_tabela(\"Estado\")"
   ]
  },
  {
   "cell_type": "code",
   "execution_count": null,
   "metadata": {},
   "outputs": [],
   "source": [
    "Maestro.monta_tabela(\"Distância 1\")"
   ]
  },
  {
   "cell_type": "code",
   "execution_count": null,
   "metadata": {},
   "outputs": [],
   "source": [
    "Maestro.monta_tabela(\"Distância 2\")"
   ]
  },
  {
   "cell_type": "markdown",
   "metadata": {},
   "source": [
    "### Gráficos"
   ]
  },
  {
   "cell_type": "code",
   "execution_count": null,
   "metadata": {},
   "outputs": [],
   "source": [
    "Maestro.exibe_grafico()"
   ]
  },
  {
   "cell_type": "markdown",
   "metadata": {},
   "source": [
    "---\n",
    "---\n",
    "---\n",
    "\n",
    "\n",
    "# Controle Remoto"
   ]
  },
  {
   "cell_type": "code",
   "execution_count": null,
   "metadata": {},
   "outputs": [],
   "source": [
    "import time"
   ]
  },
  {
   "cell_type": "markdown",
   "metadata": {},
   "source": [
    "---\n",
    "\n",
    "## Controle Geral\n",
    "\n",
    "### Reset"
   ]
  },
  {
   "cell_type": "code",
   "execution_count": null,
   "metadata": {},
   "outputs": [],
   "source": [
    "client.loop_start()\n",
    "client.publish(user+\"/E0\", payload=\"1\", qos=0, retain=False)\n",
    "time.sleep(1)\n",
    "client.publish(user+\"/E0\", payload=\"0\", qos=0, retain=False)\n",
    "client.loop_stop()"
   ]
  },
  {
   "cell_type": "markdown",
   "metadata": {},
   "source": [
    "### Armar"
   ]
  },
  {
   "cell_type": "code",
   "execution_count": null,
   "metadata": {},
   "outputs": [],
   "source": [
    "client.loop_start()\n",
    "client.publish(user+\"/E1\", payload=\"1\", qos=0, retain=False)\n",
    "time.sleep(1)\n",
    "client.publish(user+\"/E1\", payload=\"0\", qos=0, retain=False)\n",
    "client.loop_stop()"
   ]
  },
  {
   "cell_type": "markdown",
   "metadata": {},
   "source": [
    "### Desarmar"
   ]
  },
  {
   "cell_type": "code",
   "execution_count": null,
   "metadata": {},
   "outputs": [],
   "source": [
    "client.loop_start()\n",
    "client.publish(user+\"/E2\", payload=\"1\", qos=0, retain=False)\n",
    "time.sleep(1)\n",
    "client.publish(user+\"/E2\", payload=\"0\", qos=0, retain=False)\n",
    "client.loop_stop()"
   ]
  },
  {
   "cell_type": "markdown",
   "metadata": {},
   "source": [
    "---\n",
    "\n",
    "## Controle Individual\n",
    "\n",
    "Especifique qual gaiola deseja controlar:"
   ]
  },
  {
   "cell_type": "code",
   "execution_count": null,
   "metadata": {},
   "outputs": [],
   "source": [
    "gaiola = \"01\"\n",
    "\n",
    "tempo_aguardo = 0.2"
   ]
  },
  {
   "cell_type": "markdown",
   "metadata": {},
   "source": [
    "### Reset"
   ]
  },
  {
   "cell_type": "code",
   "execution_count": null,
   "metadata": {},
   "outputs": [],
   "source": [
    "client.loop_start()\n",
    "client.publish(user+\"/RX\", payload=gaiola[0], qos=0, retain=False)\n",
    "time.sleep(tempo_aguardo)\n",
    "client.publish(user+\"/RX\", payload=gaiola[1], qos=0, retain=False)\n",
    "time.sleep(tempo_aguardo)\n",
    "client.publish(user+\"/RX\", payload=\"-\", qos=0, retain=False)\n",
    "time.sleep(tempo_aguardo)\n",
    "client.publish(user+\"/RX\", payload=\"R\", qos=0, retain=False)\n",
    "client.loop_stop()"
   ]
  },
  {
   "cell_type": "markdown",
   "metadata": {},
   "source": [
    "### Armar"
   ]
  },
  {
   "cell_type": "code",
   "execution_count": null,
   "metadata": {},
   "outputs": [],
   "source": [
    "client.loop_start()\n",
    "client.publish(user+\"/RX\", payload=gaiola[0], qos=0, retain=False)\n",
    "time.sleep(tempo_aguardo)\n",
    "client.publish(user+\"/RX\", payload=gaiola[1], qos=0, retain=False)\n",
    "time.sleep(tempo_aguardo)\n",
    "client.publish(user+\"/RX\", payload=\"-\", qos=0, retain=False)\n",
    "time.sleep(tempo_aguardo)\n",
    "client.publish(user+\"/RX\", payload=\"A\", qos=0, retain=False)\n",
    "client.loop_stop()"
   ]
  },
  {
   "cell_type": "markdown",
   "metadata": {},
   "source": [
    "### Desarmar"
   ]
  },
  {
   "cell_type": "code",
   "execution_count": null,
   "metadata": {},
   "outputs": [],
   "source": [
    "client.loop_start()\n",
    "client.publish(user+\"/RX\", payload=gaiola[0], qos=0, retain=False)\n",
    "time.sleep(tempo_aguardo)\n",
    "client.publish(user+\"/RX\", payload=gaiola[1], qos=0, retain=False)\n",
    "time.sleep(tempo_aguardo)\n",
    "client.publish(user+\"/RX\", payload=\"-\", qos=0, retain=False)\n",
    "time.sleep(tempo_aguardo)\n",
    "client.publish(user+\"/RX\", payload=\"D\", qos=0, retain=False)\n",
    "client.loop_stop()"
   ]
  },
  {
   "cell_type": "code",
   "execution_count": null,
   "metadata": {},
   "outputs": [],
   "source": []
  }
 ],
 "metadata": {
  "interpreter": {
   "hash": "ac59ebe37160ed0dfa835113d9b8498d9f09ceb179beaac4002f036b9467c963"
  },
  "kernelspec": {
   "display_name": "Python 3",
   "language": "python",
   "name": "python3"
  },
  "language_info": {
   "codemirror_mode": {
    "name": "ipython",
    "version": 3
   },
   "file_extension": ".py",
   "mimetype": "text/x-python",
   "name": "python",
   "nbconvert_exporter": "python",
   "pygments_lexer": "ipython3",
   "version": "3.8.5"
  }
 },
 "nbformat": 4,
 "nbformat_minor": 2
}
