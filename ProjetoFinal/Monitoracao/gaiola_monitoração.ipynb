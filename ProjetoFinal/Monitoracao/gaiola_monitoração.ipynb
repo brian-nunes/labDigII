{
 "cells": [
  {
   "cell_type": "markdown",
   "metadata": {},
   "source": [
    "# Gaiola Automatizada - Lab Dig II\n",
    "\n",
    "---\n",
    "\n",
    "## Configurações\n",
    "\n",
    "### Instalar dependencias:"
   ]
  },
  {
   "cell_type": "code",
   "execution_count": 1,
   "metadata": {},
   "outputs": [
    {
     "name": "stdout",
     "output_type": "stream",
     "text": [
      "Requirement already satisfied: paho-mqtt in c:\\users\\brian\\anaconda3\\lib\\site-packages (1.6.1)Note: you may need to restart the kernel to use updated packages.\n",
      "\n"
     ]
    }
   ],
   "source": [
    "pip install paho-mqtt"
   ]
  },
  {
   "cell_type": "markdown",
   "metadata": {},
   "source": [
    "### Definir credenciais"
   ]
  },
  {
   "cell_type": "code",
   "execution_count": 2,
   "metadata": {},
   "outputs": [],
   "source": [
    "user = \"grupo2-bancadaB2\"\n",
    "passwd = \"L@Bdygy2B2\""
   ]
  },
  {
   "cell_type": "markdown",
   "metadata": {},
   "source": [
    "### Define classe estática para maestrar Dashboard"
   ]
  },
  {
   "cell_type": "code",
   "execution_count": 26,
   "metadata": {},
   "outputs": [],
   "source": [
    "import matplotlib.pyplot as plt\n",
    "import pandas as pd\n",
    "\n",
    "class Maestro(object):\n",
    "    mensagem = \"\"\n",
    "    gaiolas = {}\n",
    "    \n",
    "    @staticmethod\n",
    "    def atualiza_gaiolas():\n",
    "        msg = Maestro.mensagem.split(\"-\")\n",
    "        codigo = msg[0]\n",
    "        estado = msg[1]\n",
    "        distancia1 = int(msg[2]) if len(msg) > 2 else \" - \" \n",
    "        distancia2 = int(msg[3]) if len(msg) > 3 else \" - \"\n",
    "        \n",
    "        Maestro.gaiolas[codigo] = {\"Código\": codigo, \"Estado\": estado, \"Distância 1\": distancia1 if type(distancia1) == int else 0, \"Distância 2\": distancia2 if type(distancia2) == int else 0}\n",
    "        \n",
    "        estado_desc = \"Inativo\" if estado == \"0\" else \"Armado\" if estado == \"2\" else \"Fechado\" if estado == \"5\" else \"NaN\"\n",
    "        \n",
    "        print(f\"Gaiola: {codigo} | Estado: {estado_desc:<7} | Distância 1: {distancia1:>3} cm | Distância 2: {distancia2:>3} cm \", flush=True)\n",
    "        \n",
    "        Maestro.mensagem = \"\"\n",
    "\n",
    "    \n",
    "    @staticmethod\n",
    "    def monta_tabela(ref = None):           \n",
    "        df = pd.DataFrame(Maestro.gaiolas).transpose()\n",
    "        df.drop('Código', axis=1, inplace=True)\n",
    "        df[\"Estado\"] = df[\"Estado\"].apply(\n",
    "            lambda estado: \"Inativo\" if estado == \"0\" else \"Armado\" if estado == \"2\" else \"Fechado\" if estado == \"5\" else \"NaN\"\n",
    "        )\n",
    "        if ref:\n",
    "            df.sort_values(by=[ref], inplace=True)\n",
    "        display(df)\n",
    "    \n",
    "    @staticmethod\n",
    "    def exibe_grafico():\n",
    "        try:\n",
    "            df = pd.DataFrame(Maestro.gaiolas).transpose()\n",
    "            df[\"Estado Descrição\"] = df[\"Estado\"].apply(\n",
    "                lambda estado: \"Inativo\" if estado == \"0\" else \"Armado\" if estado == \"2\" else \"Fechado\" if estado == \"5\" else \"NaN\"\n",
    "            )\n",
    "            df.groupby('Estado Descrição')['Código'].nunique().plot(kind='pie', title=\"Estados das Gaiolas\", xlabel=\"\", ylabel=\"\")\n",
    "            plt.show()\n",
    "            \n",
    "            df.drop(df[df['Estado'] != '2'].index, inplace = True)\n",
    "\n",
    "            plt.hist(df['Distância 1'], label='Distância Interna', alpha=.85, edgecolor='black', bins=4)\n",
    "            plt.hist(df['Distância 2'], label='Distância na Porta', alpha=.6, edgecolor='black', bins=4)\n",
    "            plt.legend()\n",
    "            plt.show()\n",
    "        except:\n",
    "            print(\"Sem gaiolas\")\n",
    "        \n",
    "        "
   ]
  },
  {
   "cell_type": "markdown",
   "metadata": {},
   "source": [
    "### Define cliente para conexão"
   ]
  },
  {
   "cell_type": "code",
   "execution_count": 27,
   "metadata": {},
   "outputs": [
    {
     "data": {
      "text/plain": [
       "0"
      ]
     },
     "execution_count": 27,
     "metadata": {},
     "output_type": "execute_result"
    }
   ],
   "source": [
    "import paho.mqtt.client as mqtt\n",
    "        \n",
    "broker = \"3.141.193.238\"            \n",
    "port = 80                           \n",
    "keepAlive = 60                      \n",
    "topico = user+\"/TX\"\n",
    "\n",
    "def on_connect(client, userdata, flags, rc):\n",
    "    print(\"Conectado com codigo \" + str(rc))\n",
    "    client.subscribe(topico, qos=0)\n",
    "\n",
    "# Exemplo mensagem: 01-2-030-015\n",
    "def on_message(client, userdata, msg):\n",
    "    caracter = msg.payload.decode(\"utf-8\")\n",
    "    if caracter == \".\":\n",
    "        Maestro.atualiza_gaiolas()\n",
    "    else:\n",
    "        Maestro.mensagem += caracter\n",
    "\n",
    "\n",
    "client = mqtt.Client()        \n",
    "client.on_connect = on_connect              \n",
    "client.on_message = on_message              \n",
    "client.username_pw_set(user, passwd)        \n",
    "client.connect(broker, port, keepAlive)"
   ]
  },
  {
   "cell_type": "markdown",
   "metadata": {},
   "source": [
    "---\n",
    "---\n",
    "---\n",
    "\n",
    "# Teste de Dashboard Mockado\n",
    "\n",
    "### Mocka gaiolas:"
   ]
  },
  {
   "cell_type": "code",
   "execution_count": 5,
   "metadata": {},
   "outputs": [
    {
     "name": "stdout",
     "output_type": "stream",
     "text": [
      "Gaiola: 01 | Estado: Armado  | Distância 1:  30 cm | Distância 2:  15 cm \n",
      "Gaiola: 02 | Estado: Inativo | Distância 1:  -  cm | Distância 2:  -  cm \n",
      "Gaiola: 03 | Estado: Armado  | Distância 1: 145 cm | Distância 2:  68 cm \n",
      "Gaiola: 04 | Estado: Armado  | Distância 1:  88 cm | Distância 2:  27 cm \n",
      "Gaiola: 05 | Estado: Fechado | Distância 1:  -  cm | Distância 2:  -  cm \n",
      "Gaiola: 06 | Estado: Inativo | Distância 1:  -  cm | Distância 2:  -  cm \n",
      "Gaiola: 07 | Estado: Fechado | Distância 1:  -  cm | Distância 2:  -  cm \n",
      "Gaiola: 08 | Estado: Armado  | Distância 1: 143 cm | Distância 2:  89 cm \n",
      "Gaiola: 09 | Estado: Armado  | Distância 1:  99 cm | Distância 2:  10 cm \n",
      "Gaiola: 10 | Estado: Inativo | Distância 1:  -  cm | Distância 2:  -  cm \n"
     ]
    }
   ],
   "source": [
    "Maestro.mensagem = \"01-2-030-015\"\n",
    "Maestro.atualiza_gaiolas()\n",
    "Maestro.mensagem = \"02-0\"\n",
    "Maestro.atualiza_gaiolas()\n",
    "Maestro.mensagem = \"03-2-145-68\"\n",
    "Maestro.atualiza_gaiolas()\n",
    "Maestro.mensagem = \"04-2-088-027\"\n",
    "Maestro.atualiza_gaiolas()\n",
    "Maestro.mensagem = \"05-5\"\n",
    "Maestro.atualiza_gaiolas()\n",
    "Maestro.mensagem = \"06-0\"\n",
    "Maestro.atualiza_gaiolas()\n",
    "Maestro.mensagem = \"07-5\"\n",
    "Maestro.atualiza_gaiolas()\n",
    "Maestro.mensagem = \"08-2-143-089\"\n",
    "Maestro.atualiza_gaiolas()\n",
    "Maestro.mensagem = \"09-2-099-010\"\n",
    "Maestro.atualiza_gaiolas()\n",
    "Maestro.mensagem = \"10-0\"\n",
    "Maestro.atualiza_gaiolas()"
   ]
  },
  {
   "cell_type": "markdown",
   "metadata": {},
   "source": [
    "### Gera Tabela"
   ]
  },
  {
   "cell_type": "code",
   "execution_count": 6,
   "metadata": {},
   "outputs": [
    {
     "data": {
      "text/html": [
       "<div>\n",
       "<style scoped>\n",
       "    .dataframe tbody tr th:only-of-type {\n",
       "        vertical-align: middle;\n",
       "    }\n",
       "\n",
       "    .dataframe tbody tr th {\n",
       "        vertical-align: top;\n",
       "    }\n",
       "\n",
       "    .dataframe thead th {\n",
       "        text-align: right;\n",
       "    }\n",
       "</style>\n",
       "<table border=\"1\" class=\"dataframe\">\n",
       "  <thead>\n",
       "    <tr style=\"text-align: right;\">\n",
       "      <th></th>\n",
       "      <th>Estado</th>\n",
       "      <th>Distância 1</th>\n",
       "      <th>Distância 2</th>\n",
       "    </tr>\n",
       "  </thead>\n",
       "  <tbody>\n",
       "    <tr>\n",
       "      <th>01</th>\n",
       "      <td>Armado</td>\n",
       "      <td>30</td>\n",
       "      <td>15</td>\n",
       "    </tr>\n",
       "    <tr>\n",
       "      <th>02</th>\n",
       "      <td>Inativo</td>\n",
       "      <td>0</td>\n",
       "      <td>0</td>\n",
       "    </tr>\n",
       "    <tr>\n",
       "      <th>03</th>\n",
       "      <td>Armado</td>\n",
       "      <td>145</td>\n",
       "      <td>68</td>\n",
       "    </tr>\n",
       "    <tr>\n",
       "      <th>04</th>\n",
       "      <td>Armado</td>\n",
       "      <td>88</td>\n",
       "      <td>27</td>\n",
       "    </tr>\n",
       "    <tr>\n",
       "      <th>05</th>\n",
       "      <td>Fechado</td>\n",
       "      <td>0</td>\n",
       "      <td>0</td>\n",
       "    </tr>\n",
       "    <tr>\n",
       "      <th>06</th>\n",
       "      <td>Inativo</td>\n",
       "      <td>0</td>\n",
       "      <td>0</td>\n",
       "    </tr>\n",
       "    <tr>\n",
       "      <th>07</th>\n",
       "      <td>Fechado</td>\n",
       "      <td>0</td>\n",
       "      <td>0</td>\n",
       "    </tr>\n",
       "    <tr>\n",
       "      <th>08</th>\n",
       "      <td>Armado</td>\n",
       "      <td>143</td>\n",
       "      <td>89</td>\n",
       "    </tr>\n",
       "    <tr>\n",
       "      <th>09</th>\n",
       "      <td>Armado</td>\n",
       "      <td>99</td>\n",
       "      <td>10</td>\n",
       "    </tr>\n",
       "    <tr>\n",
       "      <th>10</th>\n",
       "      <td>Inativo</td>\n",
       "      <td>0</td>\n",
       "      <td>0</td>\n",
       "    </tr>\n",
       "  </tbody>\n",
       "</table>\n",
       "</div>"
      ],
      "text/plain": [
       "     Estado Distância 1 Distância 2\n",
       "01   Armado          30          15\n",
       "02  Inativo           0           0\n",
       "03   Armado         145          68\n",
       "04   Armado          88          27\n",
       "05  Fechado           0           0\n",
       "06  Inativo           0           0\n",
       "07  Fechado           0           0\n",
       "08   Armado         143          89\n",
       "09   Armado          99          10\n",
       "10  Inativo           0           0"
      ]
     },
     "metadata": {},
     "output_type": "display_data"
    }
   ],
   "source": [
    "Maestro.monta_tabela()"
   ]
  },
  {
   "cell_type": "markdown",
   "metadata": {},
   "source": [
    "### Atualizam gaiolas"
   ]
  },
  {
   "cell_type": "code",
   "execution_count": 7,
   "metadata": {},
   "outputs": [
    {
     "name": "stdout",
     "output_type": "stream",
     "text": [
      "Gaiola: 01 | Estado: Fechado | Distância 1:  -  cm | Distância 2:  -  cm \n",
      "Gaiola: 05 | Estado: Inativo | Distância 1:  -  cm | Distância 2:  -  cm \n",
      "Gaiola: 06 | Estado: Armado  | Distância 1:  48 cm | Distância 2:  78 cm \n",
      "Gaiola: 09 | Estado: Fechado | Distância 1:  -  cm | Distância 2:  -  cm \n"
     ]
    }
   ],
   "source": [
    "Maestro.mensagem = \"01-5\"\n",
    "Maestro.atualiza_gaiolas()\n",
    "Maestro.mensagem = \"05-0\"\n",
    "Maestro.atualiza_gaiolas()\n",
    "Maestro.mensagem = \"06-2-048-078\"\n",
    "Maestro.atualiza_gaiolas()\n",
    "Maestro.mensagem = \"09-5\"\n",
    "Maestro.atualiza_gaiolas()"
   ]
  },
  {
   "cell_type": "markdown",
   "metadata": {},
   "source": [
    "### Nova tabela"
   ]
  },
  {
   "cell_type": "code",
   "execution_count": 8,
   "metadata": {},
   "outputs": [
    {
     "data": {
      "text/html": [
       "<div>\n",
       "<style scoped>\n",
       "    .dataframe tbody tr th:only-of-type {\n",
       "        vertical-align: middle;\n",
       "    }\n",
       "\n",
       "    .dataframe tbody tr th {\n",
       "        vertical-align: top;\n",
       "    }\n",
       "\n",
       "    .dataframe thead th {\n",
       "        text-align: right;\n",
       "    }\n",
       "</style>\n",
       "<table border=\"1\" class=\"dataframe\">\n",
       "  <thead>\n",
       "    <tr style=\"text-align: right;\">\n",
       "      <th></th>\n",
       "      <th>Estado</th>\n",
       "      <th>Distância 1</th>\n",
       "      <th>Distância 2</th>\n",
       "    </tr>\n",
       "  </thead>\n",
       "  <tbody>\n",
       "    <tr>\n",
       "      <th>01</th>\n",
       "      <td>Fechado</td>\n",
       "      <td>0</td>\n",
       "      <td>0</td>\n",
       "    </tr>\n",
       "    <tr>\n",
       "      <th>02</th>\n",
       "      <td>Inativo</td>\n",
       "      <td>0</td>\n",
       "      <td>0</td>\n",
       "    </tr>\n",
       "    <tr>\n",
       "      <th>03</th>\n",
       "      <td>Armado</td>\n",
       "      <td>145</td>\n",
       "      <td>68</td>\n",
       "    </tr>\n",
       "    <tr>\n",
       "      <th>04</th>\n",
       "      <td>Armado</td>\n",
       "      <td>88</td>\n",
       "      <td>27</td>\n",
       "    </tr>\n",
       "    <tr>\n",
       "      <th>05</th>\n",
       "      <td>Inativo</td>\n",
       "      <td>0</td>\n",
       "      <td>0</td>\n",
       "    </tr>\n",
       "    <tr>\n",
       "      <th>06</th>\n",
       "      <td>Armado</td>\n",
       "      <td>48</td>\n",
       "      <td>78</td>\n",
       "    </tr>\n",
       "    <tr>\n",
       "      <th>07</th>\n",
       "      <td>Fechado</td>\n",
       "      <td>0</td>\n",
       "      <td>0</td>\n",
       "    </tr>\n",
       "    <tr>\n",
       "      <th>08</th>\n",
       "      <td>Armado</td>\n",
       "      <td>143</td>\n",
       "      <td>89</td>\n",
       "    </tr>\n",
       "    <tr>\n",
       "      <th>09</th>\n",
       "      <td>Fechado</td>\n",
       "      <td>0</td>\n",
       "      <td>0</td>\n",
       "    </tr>\n",
       "    <tr>\n",
       "      <th>10</th>\n",
       "      <td>Inativo</td>\n",
       "      <td>0</td>\n",
       "      <td>0</td>\n",
       "    </tr>\n",
       "  </tbody>\n",
       "</table>\n",
       "</div>"
      ],
      "text/plain": [
       "     Estado Distância 1 Distância 2\n",
       "01  Fechado           0           0\n",
       "02  Inativo           0           0\n",
       "03   Armado         145          68\n",
       "04   Armado          88          27\n",
       "05  Inativo           0           0\n",
       "06   Armado          48          78\n",
       "07  Fechado           0           0\n",
       "08   Armado         143          89\n",
       "09  Fechado           0           0\n",
       "10  Inativo           0           0"
      ]
     },
     "metadata": {},
     "output_type": "display_data"
    }
   ],
   "source": [
    "Maestro.monta_tabela()"
   ]
  },
  {
   "cell_type": "markdown",
   "metadata": {},
   "source": [
    "### Exibe gráfico"
   ]
  },
  {
   "cell_type": "code",
   "execution_count": 9,
   "metadata": {},
   "outputs": [
    {
     "data": {
      "image/png": "[encoded data removed]",
      "text/plain": [
       "<Figure size 432x288 with 1 Axes>"
      ]
     },
     "metadata": {},
     "output_type": "display_data"
    },
    {
     "data": {
      "image/png": "[encoded data removed]",
      "text/plain": [
       "<Figure size 432x288 with 1 Axes>"
      ]
     },
     "metadata": {
      "needs_background": "light"
     },
     "output_type": "display_data"
    }
   ],
   "source": [
    "Maestro.exibe_grafico()"
   ]
  },
  {
   "cell_type": "markdown",
   "metadata": {},
   "source": [
    "---\n",
    "---\n",
    "---\n",
    "\n",
    "# Monitoração"
   ]
  },
  {
   "cell_type": "markdown",
   "metadata": {},
   "source": [
    "### Faz a conexão e recebe em loop"
   ]
  },
  {
   "cell_type": "code",
   "execution_count": null,
   "metadata": {},
   "outputs": [
    {
     "name": "stdout",
     "output_type": "stream",
     "text": [
      "========================================\n",
      "Terminal Receptor Serial\n",
      "========================================\n",
      "Conectado com codigo 0\n",
      "Gaiola: 01 | Estado: Inativo | Distância 1:   0 cm | Distância 2:   0 cm \n",
      "Gaiola: 01 | Estado: Armado  | Distância 1:  54 cm | Distância 2:  19 cm \n",
      "Gaiola: 01 | Estado: Fechado | Distância 1:   0 cm | Distância 2:   0 cm \n",
      "Gaiola: 01 | Estado: Inativo | Distância 1:   0 cm | Distância 2:   0 cm \n",
      "Gaiola: 01 | Estado: Armado  | Distância 1:  53 cm | Distância 2:  19 cm \n",
      "Gaiola: 01 | Estado: Inativo | Distância 1:   0 cm | Distância 2:   0 cm \n",
      "Gaiola: 01 | Estado: Fechado | Distância 1:   0 cm | Distância 2:   0 cm \n"
     ]
    }
   ],
   "source": [
    "print(\"========================================\")\n",
    "print(\"Terminal Receptor Serial\")\n",
    "print(\"========================================\")\n",
    "client.loop_forever()"
   ]
  },
  {
   "cell_type": "markdown",
   "metadata": {},
   "source": [
    "### Tabela"
   ]
  },
  {
   "cell_type": "code",
   "execution_count": 14,
   "metadata": {},
   "outputs": [
    {
     "data": {
      "text/html": [
       "<div>\n",
       "<style scoped>\n",
       "    .dataframe tbody tr th:only-of-type {\n",
       "        vertical-align: middle;\n",
       "    }\n",
       "\n",
       "    .dataframe tbody tr th {\n",
       "        vertical-align: top;\n",
       "    }\n",
       "\n",
       "    .dataframe thead th {\n",
       "        text-align: right;\n",
       "    }\n",
       "</style>\n",
       "<table border=\"1\" class=\"dataframe\">\n",
       "  <thead>\n",
       "    <tr style=\"text-align: right;\">\n",
       "      <th></th>\n",
       "      <th>Distância 1</th>\n",
       "      <th>Distância 2</th>\n",
       "      <th>Estado</th>\n",
       "    </tr>\n",
       "  </thead>\n",
       "  <tbody>\n",
       "    <tr>\n",
       "      <th>01</th>\n",
       "      <td>0</td>\n",
       "      <td>0</td>\n",
       "      <td>Fechado</td>\n",
       "    </tr>\n",
       "  </tbody>\n",
       "</table>\n",
       "</div>"
      ],
      "text/plain": [
       "   Distância 1 Distância 2   Estado\n",
       "01           0           0  Fechado"
      ]
     },
     "metadata": {},
     "output_type": "display_data"
    }
   ],
   "source": [
    "Maestro.monta_tabela()"
   ]
  },
  {
   "cell_type": "code",
   "execution_count": 15,
   "metadata": {},
   "outputs": [
    {
     "data": {
      "text/html": [
       "<div>\n",
       "<style scoped>\n",
       "    .dataframe tbody tr th:only-of-type {\n",
       "        vertical-align: middle;\n",
       "    }\n",
       "\n",
       "    .dataframe tbody tr th {\n",
       "        vertical-align: top;\n",
       "    }\n",
       "\n",
       "    .dataframe thead th {\n",
       "        text-align: right;\n",
       "    }\n",
       "</style>\n",
       "<table border=\"1\" class=\"dataframe\">\n",
       "  <thead>\n",
       "    <tr style=\"text-align: right;\">\n",
       "      <th></th>\n",
       "      <th>Distância 1</th>\n",
       "      <th>Distância 2</th>\n",
       "      <th>Estado</th>\n",
       "    </tr>\n",
       "  </thead>\n",
       "  <tbody>\n",
       "    <tr>\n",
       "      <th>01</th>\n",
       "      <td>0</td>\n",
       "      <td>0</td>\n",
       "      <td>Fechado</td>\n",
       "    </tr>\n",
       "  </tbody>\n",
       "</table>\n",
       "</div>"
      ],
      "text/plain": [
       "   Distância 1 Distância 2   Estado\n",
       "01           0           0  Fechado"
      ]
     },
     "metadata": {},
     "output_type": "display_data"
    }
   ],
   "source": [
    "Maestro.monta_tabela(\"Estado\")"
   ]
  },
  {
   "cell_type": "code",
   "execution_count": null,
   "metadata": {},
   "outputs": [],
   "source": [
    "Maestro.monta_tabela(\"Distância 1\")"
   ]
  },
  {
   "cell_type": "code",
   "execution_count": null,
   "metadata": {},
   "outputs": [],
   "source": [
    "Maestro.monta_tabela(\"Distância 2\")"
   ]
  },
  {
   "cell_type": "markdown",
   "metadata": {},
   "source": [
    "### Gráficos"
   ]
  },
  {
   "cell_type": "code",
   "execution_count": 16,
   "metadata": {},
   "outputs": [
    {
     "data": {
      "image/png": "[encoded data removed]",
      "text/plain": [
       "<Figure size 432x288 with 1 Axes>"
      ]
     },
     "metadata": {},
     "output_type": "display_data"
    },
    {
     "data": {
      "image/png": "[encoded data removed]",
      "text/plain": [
       "<Figure size 432x288 with 1 Axes>"
      ]
     },
     "metadata": {
      "needs_background": "light"
     },
     "output_type": "display_data"
    }
   ],
   "source": [
    "Maestro.exibe_grafico()"
   ]
  },
  {
   "cell_type": "markdown",
   "metadata": {},
   "source": [
    "---\n",
    "---\n",
    "---\n",
    "\n",
    "\n",
    "# Controle Remoto"
   ]
  },
  {
   "cell_type": "code",
   "execution_count": 17,
   "metadata": {},
   "outputs": [],
   "source": [
    "import time"
   ]
  },
  {
   "cell_type": "markdown",
   "metadata": {},
   "source": [
    "---\n",
    "\n",
    "## Controle Geral\n",
    "\n",
    "### Reset"
   ]
  },
  {
   "cell_type": "code",
   "execution_count": 18,
   "metadata": {},
   "outputs": [
    {
     "name": "stdout",
     "output_type": "stream",
     "text": [
      "Gaiola: 01 | Estado: Inativo | Distância 1:   0 cm | Distância 2:   0 cm \n"
     ]
    }
   ],
   "source": [
    "client.loop_start()\n",
    "client.publish(user+\"/E0\", payload=\"1\", qos=0, retain=False)\n",
    "time.sleep(1)\n",
    "client.publish(user+\"/E0\", payload=\"0\", qos=0, retain=False)\n",
    "client.loop_stop()"
   ]
  },
  {
   "cell_type": "markdown",
   "metadata": {},
   "source": [
    "### Armar"
   ]
  },
  {
   "cell_type": "code",
   "execution_count": 25,
   "metadata": {},
   "outputs": [
    {
     "name": "stdout",
     "output_type": "stream",
     "text": [
      "Gaiola: 01 | Estado: Fechado | Distância 1:   0 cm | Distância 2:   0 cm \n"
     ]
    }
   ],
   "source": [
    "client.loop_start()\n",
    "client.publish(user+\"/E1\", payload=\"1\", qos=0, retain=False)\n",
    "time.sleep(1)\n",
    "client.publish(user+\"/E1\", payload=\"0\", qos=0, retain=False)\n",
    "client.loop_stop()"
   ]
  },
  {
   "cell_type": "markdown",
   "metadata": {},
   "source": [
    "### Desarmar"
   ]
  },
  {
   "cell_type": "code",
   "execution_count": 20,
   "metadata": {},
   "outputs": [
    {
     "name": "stdout",
     "output_type": "stream",
     "text": [
      "Gaiola: 01 | Estado: Armado  | Distância 1:  53 cm | Distância 2:  19 cm \n"
     ]
    }
   ],
   "source": [
    "client.loop_start()\n",
    "client.publish(user+\"/E2\", payload=\"1\", qos=0, retain=False)\n",
    "time.sleep(1)\n",
    "client.publish(user+\"/E2\", payload=\"0\", qos=0, retain=False)\n",
    "client.loop_stop()"
   ]
  },
  {
   "cell_type": "markdown",
   "metadata": {},
   "source": [
    "---\n",
    "\n",
    "## Controle Individual\n",
    "\n",
    "Especifique qual gaiola deseja controlar:"
   ]
  },
  {
   "cell_type": "code",
   "execution_count": 21,
   "metadata": {},
   "outputs": [],
   "source": [
    "gaiola = \"01\"\n",
    "\n",
    "tempo_aguardo = 0.2"
   ]
  },
  {
   "cell_type": "markdown",
   "metadata": {},
   "source": [
    "### Reset"
   ]
  },
  {
   "cell_type": "code",
   "execution_count": 22,
   "metadata": {},
   "outputs": [
    {
     "name": "stdout",
     "output_type": "stream",
     "text": [
      "Gaiola: 01 | Estado: Fechado | Distância 1:   0 cm | Distância 2:   0 cm \n"
     ]
    }
   ],
   "source": [
    "client.loop_start()\n",
    "client.publish(user+\"/RX\", payload=gaiola[0], qos=0, retain=False)\n",
    "time.sleep(tempo_aguardo)\n",
    "client.publish(user+\"/RX\", payload=gaiola[1], qos=0, retain=False)\n",
    "time.sleep(tempo_aguardo)\n",
    "client.publish(user+\"/RX\", payload=\"-\", qos=0, retain=False)\n",
    "time.sleep(tempo_aguardo)\n",
    "client.publish(user+\"/RX\", payload=\"R\", qos=0, retain=False)\n",
    "client.loop_stop()"
   ]
  },
  {
   "cell_type": "markdown",
   "metadata": {},
   "source": [
    "### Armar"
   ]
  },
  {
   "cell_type": "code",
   "execution_count": 23,
   "metadata": {},
   "outputs": [],
   "source": [
    "client.loop_start()\n",
    "client.publish(user+\"/RX\", payload=gaiola[0], qos=0, retain=False)\n",
    "time.sleep(tempo_aguardo)\n",
    "client.publish(user+\"/RX\", payload=gaiola[1], qos=0, retain=False)\n",
    "time.sleep(tempo_aguardo)\n",
    "client.publish(user+\"/RX\", payload=\"-\", qos=0, retain=False)\n",
    "time.sleep(tempo_aguardo)\n",
    "client.publish(user+\"/RX\", payload=\"A\", qos=0, retain=False)\n",
    "client.loop_stop()"
   ]
  },
  {
   "cell_type": "markdown",
   "metadata": {},
   "source": [
    "### Desarmar"
   ]
  },
  {
   "cell_type": "code",
   "execution_count": 24,
   "metadata": {},
   "outputs": [
    {
     "name": "stdout",
     "output_type": "stream",
     "text": [
      "Gaiola: 01 | Estado: Armado  | Distância 1:  54 cm | Distância 2:  19 cm \n"
     ]
    }
   ],
   "source": [
    "client.loop_start()\n",
    "client.publish(user+\"/RX\", payload=gaiola[0], qos=0, retain=False)\n",
    "time.sleep(tempo_aguardo)\n",
    "client.publish(user+\"/RX\", payload=gaiola[1], qos=0, retain=False)\n",
    "time.sleep(tempo_aguardo)\n",
    "client.publish(user+\"/RX\", payload=\"-\", qos=0, retain=False)\n",
    "time.sleep(tempo_aguardo)\n",
    "client.publish(user+\"/RX\", payload=\"D\", qos=0, retain=False)\n",
    "client.loop_stop()"
   ]
  },
  {
   "cell_type": "code",
   "execution_count": null,
   "metadata": {},
   "outputs": [],
   "source": []
  }
 ],
 "metadata": {
  "interpreter": {
   "hash": "ac59ebe37160ed0dfa835113d9b8498d9f09ceb179beaac4002f036b9467c963"
  },
  "kernelspec": {
   "display_name": "Python 3",
   "language": "python",
   "name": "python3"
  },
  "language_info": {
   "codemirror_mode": {
    "name": "ipython",
    "version": 3
   },
   "file_extension": ".py",
   "mimetype": "text/x-python",
   "name": "python",
   "nbconvert_exporter": "python",
   "pygments_lexer": "ipython3",
   "version": "3.8.5"
  }
 },
 "nbformat": 4,
 "nbformat_minor": 2
}
